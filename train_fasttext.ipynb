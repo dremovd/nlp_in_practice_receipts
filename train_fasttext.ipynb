{
 "cells": [
  {
   "cell_type": "markdown",
   "metadata": {
    "collapsed": false
   },
   "source": [
    "# Обучение FastText\n",
    "\n",
    "В бейзлайне предполагается использовать векторы из библиотеки FastText, которые в данном ноутбуке обучатся на домен чеков"
   ]
  },
  {
   "cell_type": "code",
   "execution_count": 1,
   "id": "0025de88",
   "metadata": {
    "ExecuteTime": {
     "end_time": "2023-06-08T10:20:03.393807600Z",
     "start_time": "2023-06-08T10:20:02.596348500Z"
    }
   },
   "outputs": [],
   "source": [
    "from gensim.models.fasttext import FastText\n",
    "import pandas as pd"
   ]
  },
  {
   "cell_type": "code",
   "execution_count": 2,
   "id": "5dbeaf69",
   "metadata": {},
   "outputs": [],
   "source": [
    "import os\n",
    "\n",
    "os.chdir('competitions/2023-receipts/')"
   ]
  },
  {
   "cell_type": "markdown",
   "metadata": {
    "collapsed": false
   },
   "source": [
    "Выгрузим все чеки из размеченного датасета для обучения, а также из тестового датасета"
   ]
  },
  {
   "cell_type": "code",
   "execution_count": 3,
   "id": "066858b0",
   "metadata": {
    "ExecuteTime": {
     "end_time": "2023-06-08T10:20:03.493889400Z",
     "start_time": "2023-06-08T10:20:03.396902400Z"
    }
   },
   "outputs": [],
   "source": [
    "train_df = pd.read_csv(\"train_supervised_dataset.csv\").fillna(\"\")\n",
    "unlabeled_df = pd.read_csv(\"train_unsupervised_dataset.csv\").fillna(\"\")\n",
    "test_df = pd.read_csv(\"test_dataset.csv\")\n",
    "names = pd.concat((train_df[\"name\"], test_df[\"name\"], unlabeled_df['name']), axis=0, ignore_index=True)\n",
    "names = pd.DataFrame(names)"
   ]
  },
  {
   "cell_type": "markdown",
   "metadata": {
    "collapsed": false
   },
   "source": [
    "В качестве предобработки приведем все к нижнему регистру\n",
    "Токенизируем по пробельным символам"
   ]
  },
  {
   "cell_type": "code",
   "execution_count": 4,
   "id": "2dddc22e",
   "metadata": {
    "ExecuteTime": {
     "end_time": "2023-06-08T10:20:03.638597600Z",
     "start_time": "2023-06-08T10:20:03.495407300Z"
    }
   },
   "outputs": [
    {
     "data": {
      "text/html": [
       "<div>\n",
       "<style scoped>\n",
       "    .dataframe tbody tr th:only-of-type {\n",
       "        vertical-align: middle;\n",
       "    }\n",
       "\n",
       "    .dataframe tbody tr th {\n",
       "        vertical-align: top;\n",
       "    }\n",
       "\n",
       "    .dataframe thead th {\n",
       "        text-align: right;\n",
       "    }\n",
       "</style>\n",
       "<table border=\"1\" class=\"dataframe\">\n",
       "  <thead>\n",
       "    <tr style=\"text-align: right;\">\n",
       "      <th></th>\n",
       "      <th>name</th>\n",
       "      <th>tokens</th>\n",
       "    </tr>\n",
       "  </thead>\n",
       "  <tbody>\n",
       "    <tr>\n",
       "      <th>0</th>\n",
       "      <td>Petmax Бантик леопард с красн розой 2шт</td>\n",
       "      <td>[petmax, бантик, леопард, с, красн, розой, 2шт]</td>\n",
       "    </tr>\n",
       "    <tr>\n",
       "      <th>1</th>\n",
       "      <td>87191 Бусы для елки шарики_87191</td>\n",
       "      <td>[87191, бусы, для, елки, шарики_87191]</td>\n",
       "    </tr>\n",
       "    <tr>\n",
       "      <th>2</th>\n",
       "      <td>Футболка Piazza Italia WR011446881</td>\n",
       "      <td>[футболка, piazza, italia, wr011446881]</td>\n",
       "    </tr>\n",
       "    <tr>\n",
       "      <th>3</th>\n",
       "      <td>7) YI572-03X-ONE ЗАКОЛКА ДЛЯ ВОЛОС ДЛЯ ДЕВОЧКИ</td>\n",
       "      <td>[7), yi572-03x-one, заколка, для, волос, для, ...</td>\n",
       "    </tr>\n",
       "    <tr>\n",
       "      <th>4</th>\n",
       "      <td>Одежда (вес) 1500</td>\n",
       "      <td>[одежда, (вес), 1500]</td>\n",
       "    </tr>\n",
       "    <tr>\n",
       "      <th>...</th>\n",
       "      <td>...</td>\n",
       "      <td>...</td>\n",
       "    </tr>\n",
       "    <tr>\n",
       "      <th>1029995</th>\n",
       "      <td>F-2296  Спонж д/макияжа фигурный (шт)</td>\n",
       "      <td>[f-2296, спонж, д/макияжа, фигурный, (шт)]</td>\n",
       "    </tr>\n",
       "    <tr>\n",
       "      <th>1029996</th>\n",
       "      <td>4 5702737510597 69.88 Дифф/Arom/1601</td>\n",
       "      <td>[4, 5702737510597, 69.88, дифф/arom/1601]</td>\n",
       "    </tr>\n",
       "    <tr>\n",
       "      <th>1029997</th>\n",
       "      <td>Матрас надувной 540*74см Tropical Bird запл.д/...</td>\n",
       "      <td>[матрас, надувной, 540*74см, tropical, bird, з...</td>\n",
       "    </tr>\n",
       "    <tr>\n",
       "      <th>1029998</th>\n",
       "      <td>пододеяльник СТМ Страйп 3-сп, размер: 796х185с...</td>\n",
       "      <td>[пододеяльник, стм, страйп, 3-сп,, размер:, 79...</td>\n",
       "    </tr>\n",
       "    <tr>\n",
       "      <th>1029999</th>\n",
       "      <td>Пакет ламинированный вертикальный ?Чудесных мг...</td>\n",
       "      <td>[пакет, ламинированный, вертикальный, ?чудесны...</td>\n",
       "    </tr>\n",
       "  </tbody>\n",
       "</table>\n",
       "<p>1030000 rows × 2 columns</p>\n",
       "</div>"
      ],
      "text/plain": [
       "                                                      name  \\\n",
       "0                  Petmax Бантик леопард с красн розой 2шт   \n",
       "1                         87191 Бусы для елки шарики_87191   \n",
       "2                       Футболка Piazza Italia WR011446881   \n",
       "3           7) YI572-03X-ONE ЗАКОЛКА ДЛЯ ВОЛОС ДЛЯ ДЕВОЧКИ   \n",
       "4                                        Одежда (вес) 1500   \n",
       "...                                                    ...   \n",
       "1029995              F-2296  Спонж д/макияжа фигурный (шт)   \n",
       "1029996               4 5702737510597 69.88 Дифф/Arom/1601   \n",
       "1029997  Матрас надувной 540*74см Tropical Bird запл.д/...   \n",
       "1029998  пододеяльник СТМ Страйп 3-сп, размер: 796х185с...   \n",
       "1029999  Пакет ламинированный вертикальный ?Чудесных мг...   \n",
       "\n",
       "                                                    tokens  \n",
       "0          [petmax, бантик, леопард, с, красн, розой, 2шт]  \n",
       "1                   [87191, бусы, для, елки, шарики_87191]  \n",
       "2                  [футболка, piazza, italia, wr011446881]  \n",
       "3        [7), yi572-03x-one, заколка, для, волос, для, ...  \n",
       "4                                    [одежда, (вес), 1500]  \n",
       "...                                                    ...  \n",
       "1029995         [f-2296, спонж, д/макияжа, фигурный, (шт)]  \n",
       "1029996          [4, 5702737510597, 69.88, дифф/arom/1601]  \n",
       "1029997  [матрас, надувной, 540*74см, tropical, bird, з...  \n",
       "1029998  [пододеяльник, стм, страйп, 3-сп,, размер:, 79...  \n",
       "1029999  [пакет, ламинированный, вертикальный, ?чудесны...  \n",
       "\n",
       "[1030000 rows x 2 columns]"
      ]
     },
     "execution_count": 4,
     "metadata": {},
     "output_type": "execute_result"
    }
   ],
   "source": [
    "names[\"tokens\"] = names['name'].str.lower().str.split()\n",
    "names"
   ]
  },
  {
   "cell_type": "markdown",
   "metadata": {
    "collapsed": false
   },
   "source": [
    "Обученные векторы положим в файл `fasttext.model` для использования в моделях"
   ]
  },
  {
   "cell_type": "code",
   "execution_count": 5,
   "id": "bca4fbe1",
   "metadata": {
    "ExecuteTime": {
     "end_time": "2023-06-08T10:20:11.978458900Z",
     "start_time": "2023-06-08T10:20:03.668319100Z"
    }
   },
   "outputs": [],
   "source": [
    "FastText(names[\"tokens\"], vector_size=300, workers=8).save(\"fasttext.model\")"
   ]
  },
  {
   "cell_type": "code",
   "execution_count": null,
   "id": "104b0c5f",
   "metadata": {},
   "outputs": [],
   "source": []
  }
 ],
 "metadata": {
  "kernelspec": {
   "display_name": "py310",
   "language": "python",
   "name": "py310"
  },
  "language_info": {
   "codemirror_mode": {
    "name": "ipython",
    "version": 3
   },
   "file_extension": ".py",
   "mimetype": "text/x-python",
   "name": "python",
   "nbconvert_exporter": "python",
   "pygments_lexer": "ipython3",
   "version": "3.10.11"
  }
 },
 "nbformat": 4,
 "nbformat_minor": 5
}
